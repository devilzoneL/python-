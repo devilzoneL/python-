{
 "cells": [
  {
   "cell_type": "code",
   "execution_count": null,
   "id": "9d1f9be8-7bf8-46e2-bb6b-e1c81ded1620",
   "metadata": {},
   "outputs": [],
   "source": [
    "import tkinter as tk\n",
    "\n",
    "root=tk.Tk()\n",
    "root.geometry(\"500x400\")\n",
    "root.title(\"User Name Input\")\n",
    " \n",
    "\n",
    "name_var= tk.StringVar()\n",
    "\n",
    "def func():\n",
    "    f1=name_var.get()\n",
    "    print(f1)\n",
    "    name_label1 = tk.Label(root, text=\"The Name Is \"+ f1)\n",
    "    name_label1.grid(row=2,column=0)\n",
    "    \n",
    "    name_var.set(\"\")\n",
    "\n",
    "name_label = tk.Label(root, text=\"Enter Your Name :\")\n",
    "name_label.grid(row=0,column=0)\n",
    "\n",
    "e1 =tk.Entry(root,textvariable = name_var)\n",
    "e1.grid(row=0, column=1)\n",
    "\n",
    "button = tk.Button(root, text=\"Enter\", command= func)\n",
    "button.grid(row=1,column=0)\n",
    "\n",
    "root.mainloop()"
   ]
  },
  {
   "cell_type": "code",
   "execution_count": null,
   "id": "bb8624e8-f9f2-4515-b2d4-e9676692bda1",
   "metadata": {},
   "outputs": [],
   "source": []
  }
 ],
 "metadata": {
  "kernelspec": {
   "display_name": "Python [conda env:base] *",
   "language": "python",
   "name": "conda-base-py"
  },
  "language_info": {
   "codemirror_mode": {
    "name": "ipython",
    "version": 3
   },
   "file_extension": ".py",
   "mimetype": "text/x-python",
   "name": "python",
   "nbconvert_exporter": "python",
   "pygments_lexer": "ipython3",
   "version": "3.12.7"
  }
 },
 "nbformat": 4,
 "nbformat_minor": 5
}
